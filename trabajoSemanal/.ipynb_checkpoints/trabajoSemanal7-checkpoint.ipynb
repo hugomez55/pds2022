{
 "cells": [
  {
   "cell_type": "markdown",
   "id": "35e10c21",
   "metadata": {},
   "source": [
    "##### Trabajo Semanal 7"
   ]
  },
  {
   "cell_type": "markdown",
   "id": "4ed36454",
   "metadata": {},
   "source": [
    "##### Estimación espectral. Ventanas en acción!"
   ]
  },
  {
   "cell_type": "markdown",
   "id": "8d2db021",
   "metadata": {},
   "source": [
    "En esta tarea continuaremos con el capítulo 14 de Holton. DSP Principles and App.\n",
    "\n",
    "Para ello, realizaremos el punto 3.a del TP2.\n",
    "\n",
    "3) Genere la siguiente señal\n",
    "x(k)=a0⋅sen(Ω1⋅k)\n",
    "siendo\n",
    "\n",
    "a0=2\n",
    "Ω1=Ω0+fr⋅2πN\n",
    "Ω0=π2\n",
    "y la variable aleatoria definida por la siguiente distribución de probabilidad\n",
    "\n",
    "fr∼U(−2,2)\n",
    "\n",
    "\n",
    "Considere 200 realizaciones (muestras tomadas de fr) para cada ventana analizada en la TS6. Se pide entonces:\n",
    "\n",
    "3.a) Grafique los histogramas de\n",
    "|Xiw(Ω0)|\n",
    "\n",
    "\n",
    "siendo\n",
    "\n",
    "|Xiw(Ω)|=|F{x(k)⋅wi(k)}|\n",
    "para la i-ésima ventana de las 5 utilizadas en la TS6. El sesgo y la varianza se definen para este caso como:\n",
    "\n",
    " Grafique los 5 histogramas juntos, o cuide que todos los gráficos tengan el mismo rango de valores en X para facilitar la comparación visual.\n",
    "3.b) Calcule experimentalmente el sesgo y la varianza del siguiente estimador:\n",
    "a0^=|Xiw(Ω0)|\n",
    "siendo\n",
    "\n",
    "sa=E{a0^}−a0\n",
    "\n",
    "va=var{a0^}=E{(a0^−E{a0^})2}\n",
    "y pueden aproximarse cuando consideramos los valores esperados como las medias muestrales\n",
    "\n",
    "E{a0^}=μa^=1M∑j=0M−1aj^\n",
    "\n",
    "sa=μa^−a0\n",
    "\n",
    "va=1M∑j=0M−1(aj^−μa^)2\n",
    "\n",
    "\n",
    "Estimación de Amplitud \n",
    " \n",
    " \n",
    "sa\tva\n",
    "Rectangular\t \t \n",
    "Bartlett\t \t \n",
    "Hann\t \t \n",
    "Blackman\t \t \n",
    "Flat-top\t \t "
   ]
  },
  {
   "cell_type": "markdown",
   "id": "7ccdb3b6",
   "metadata": {},
   "source": [
    "Inclusión de librerías"
   ]
  },
  {
   "cell_type": "code",
   "execution_count": 9,
   "id": "ea605ec8",
   "metadata": {},
   "outputs": [],
   "source": [
    "# -*- coding: utf-8 -*-\n",
    "\"\"\"\n",
    "\n",
    "@author: Hugo Alejandro Gomez\n",
    "\n",
    "Descripción:\n",
    "------------\n",
    "Tarea semanal N°7\n",
    "\n",
    "\"\"\"\n",
    "# Inclusión de librerías\n",
    "import numpy as np\n",
    "import matplotlib.pyplot as plt\n",
    "import scipy.signal as sig\n",
    "import pandas\n",
    "from pandas import DataFrame\n",
    "from IPython.display import HTML"
   ]
  },
  {
   "cell_type": "markdown",
   "id": "1c0fe128",
   "metadata": {},
   "source": [
    "Inicialización de variables"
   ]
  },
  {
   "cell_type": "code",
   "execution_count": 3,
   "id": "b140297b",
   "metadata": {},
   "outputs": [],
   "source": [
    "# Inicialización de variables\n",
    "plt.close('all')\n",
    "fs=1000\n",
    "N = 1000\n",
    "df = fs/N # resolución espectral\n",
    "amp = 2\n",
    "freq = fs/4\n",
    "ph = 0\n",
    "dc = 0\n",
    "muestras = 200\n",
    "omega_ini = np.pi/2\n",
    "ts = 1/fs\n",
    "Wbins = 1"
   ]
  },
  {
   "cell_type": "markdown",
   "id": "d58fa215",
   "metadata": {},
   "source": [
    "Simulaciones"
   ]
  },
  {
   "cell_type": "code",
   "execution_count": 4,
   "id": "e0b3d47e",
   "metadata": {},
   "outputs": [],
   "source": [
    "#%% Ventanas\n",
    "\n",
    "winBartlett = sig.windows.bartlett(N).reshape(N,1)\n",
    "winHann = sig.windows.hann(N).reshape(N,1)\n",
    "winBlackman = sig.windows.blackman(N).reshape(N,1)\n",
    "winFlatTop = sig.windows.flattop(N).reshape(N,1)\n",
    "\n",
    "noise = (np.random.rand(1,muestras)-0.5)*2\n",
    "\n",
    "tt = np.linspace(0, (N-1)*ts, N).reshape(N,1)\n",
    "\n",
    "omega = (omega_ini + noise * (np.pi*2/N))*tt*fs\n",
    "\n",
    "seno = amp*np.sin(omega)\n",
    "\n",
    "bartlettSeno = seno*winBartlett\n",
    "hannSeno = seno*winHann\n",
    "blackmanSeno = seno*winBlackman\n",
    "flatTopSeno = seno*winFlatTop\n",
    "\n",
    "# FFT\n",
    "senoFFT = np.fft.fft(seno, axis=0) / seno.shape[0]\n",
    "bartlettFFT = np.fft.fft(bartlettSeno, axis = 0)/bartlettSeno.shape[0]\n",
    "hannFFT = np.fft.fft(hannSeno, axis = 0)/hannSeno.shape[0]\n",
    "blackmanFFT = np.fft.fft(blackmanSeno, axis = 0)/blackmanSeno.shape[0]\n",
    "flatTopFFT = np.fft.fft(flatTopSeno, axis = 0)/flatTopSeno.shape[0]\n",
    "\n",
    "ff = np.arange(0, fs, fs/N)\n",
    "bfrec = ff<=(fs/2)"
   ]
  },
  {
   "cell_type": "code",
   "execution_count": 5,
   "id": "529393e6",
   "metadata": {},
   "outputs": [],
   "source": [
    "#%% Estimadores\n",
    "#Estimador 3A\n",
    "bartlettEstAmp = np.abs(bartlettFFT[250, :])*2\n",
    "hannEstAmp = np.abs(hannFFT[250, :])*2\n",
    "blackmanEstAmp = np.abs(blackmanFFT[250, :])*2\n",
    "flatTopEstAmp = np.abs(flatTopFFT[250, :])*2\n",
    "\n",
    "#Estimador 3B\n",
    "# Bartlett\n",
    "bartlettDenPot = 2*np.abs(bartlettFFT)**2\n",
    "bartlettSubMatriz = bartlettDenPot[250-Wbins:250+Wbins+1,:]\n",
    "bartlettPotEst = np.sum(bartlettSubMatriz, axis=0)\n",
    "bartlettAmpEst = np.sqrt(2*bartlettPotEst)\n",
    "# Hann\n",
    "hannDenPot = 2*np.abs(hannFFT)**2\n",
    "hannSubMatriz = hannDenPot[250-Wbins:250+Wbins+1,:]\n",
    "hannPotEst = np.sum(hannSubMatriz, axis=0)\n",
    "hannAmpEst = np.sqrt(2*hannPotEst)\n",
    "# Blackman\n",
    "blackmanDenPot = 2*np.abs(blackmanFFT)**2\n",
    "blackmanSubMatriz = blackmanDenPot[250-Wbins:250+Wbins+1,:]\n",
    "blackmanPotEst = np.sum(blackmanSubMatriz, axis=0)\n",
    "blackmanAmpEst = np.sqrt(2*blackmanPotEst)\n",
    "# Flat-Top\n",
    "flatTopDenPot = 2*np.abs(flatTopFFT)**2\n",
    "flatTopSubMatriz = flatTopDenPot[250-Wbins:250+Wbins+1,:]\n",
    "flatTopPotEst = np.sum(flatTopSubMatriz, axis=0)\n",
    "flatTopAmpEst = np.sqrt(2*flatTopPotEst)\n",
    "\n",
    "bartlettEstimadores = np.vstack([bartlettEstAmp, bartlettAmpEst]).transpose()\n",
    "hannEstimadores = np.vstack([hannEstAmp, hannAmpEst]).transpose()\n",
    "blackmanEstimadores = np.vstack([blackmanEstAmp, blackmanAmpEst]).transpose()\n",
    "flatTopEstimadores = np.vstack([flatTopEstAmp, flatTopAmpEst]).transpose()\n",
    "\n",
    "# Bartlett\n",
    "bartlettMediana = np.median(bartlettEstimadores, axis=0)\n",
    "bartlettSesgo = np.median(bartlettEstimadores, axis=0) - amp\n",
    "bartlettVarianza = np.mean((bartlettEstimadores - bartlettMediana)**2, axis=0)\n",
    "# Hann\n",
    "hannMediana = np.median(hannEstimadores, axis=0)\n",
    "hannSesgo = np.median(hannEstimadores, axis=0) - amp\n",
    "hannVarianza = np.mean((hannEstimadores - hannMediana)**2, axis=0)\n",
    "# Blackman\n",
    "blackmanMediana = np.median(blackmanEstimadores, axis=0)\n",
    "blackmanSesgo = np.median(blackmanEstimadores, axis=0) - amp\n",
    "blackmanVarianza = np.mean((blackmanEstimadores - blackmanMediana)**2, axis=0)\n",
    "# Flat-Top\n",
    "flatTopMediana = np.median(flatTopEstimadores, axis=0)\n",
    "flatTopSesgo = np.median(flatTopEstimadores, axis=0) - amp\n",
    "flatTopVarianza = np.mean((flatTopEstimadores - flatTopMediana)**2, axis=0)\n",
    "\n",
    "#Agrupo estimadores\n",
    "estimador3A = np.vstack([bartlettEstAmp, hannEstAmp, blackmanEstAmp, flatTopEstAmp]).transpose()\n",
    "estimador3B = np.vstack([bartlettAmpEst, hannAmpEst, blackmanAmpEst, flatTopAmpEst]).transpose()"
   ]
  },
  {
   "cell_type": "markdown",
   "id": "7a3585ea",
   "metadata": {},
   "source": [
    "Histogramas"
   ]
  },
  {
   "cell_type": "code",
   "execution_count": 6,
   "id": "9b06b5c8",
   "metadata": {},
   "outputs": [
    {
     "data": {
      "image/png": "[encoded data removed]",
      "text/plain": [
       "<Figure size 640x480 with 1 Axes>"
      ]
     },
     "metadata": {},
     "output_type": "display_data"
    }
   ],
   "source": [
    "plt.figure(1)\n",
    "plt.title(\"Estimador 3A\")\n",
    "kwargs = dict(alpha=0.5, bins=10, density=False, stacked=True)\n",
    "# kwargs2 = dict(alpha=0.5, bins=2, density=False, stacked=True)\n",
    "plt.hist(estimador3A[:,0], **kwargs, label='Bartlett')\n",
    "plt.hist(estimador3A[:,1], **kwargs, label='Hann')\n",
    "plt.hist(estimador3A[:,2], **kwargs, label='Blackman')\n",
    "plt.hist(estimador3A[:,3], **kwargs, label='Flat-Top')\n",
    "plt.legend()\n",
    "plt.show()"
   ]
  },
  {
   "cell_type": "markdown",
   "id": "bfe71799",
   "metadata": {},
   "source": [
    "Tabla comparativa con primer estimador"
   ]
  },
  {
   "cell_type": "code",
   "execution_count": 11,
   "id": "d311fcc4",
   "metadata": {},
   "outputs": [
    {
     "data": {
      "text/html": [
       "<table border=\"1\" class=\"dataframe\">\n",
       "  <thead>\n",
       "    <tr style=\"text-align: right;\">\n",
       "      <th></th>\n",
       "      <th>$s_a$</th>\n",
       "      <th>$v_a$</th>\n",
       "    </tr>\n",
       "  </thead>\n",
       "  <tbody>\n",
       "    <tr>\n",
       "      <th>Bartlett</th>\n",
       "      <td>-1.209516</td>\n",
       "      <td>0.034281</td>\n",
       "    </tr>\n",
       "    <tr>\n",
       "      <th>Hann</th>\n",
       "      <td>-1.167732</td>\n",
       "      <td>0.023819</td>\n",
       "    </tr>\n",
       "    <tr>\n",
       "      <th>Blackman</th>\n",
       "      <td>-1.271058</td>\n",
       "      <td>0.010909</td>\n",
       "    </tr>\n",
       "    <tr>\n",
       "      <th>Flat-Top</th>\n",
       "      <td>-1.569962</td>\n",
       "      <td>0.000018</td>\n",
       "    </tr>\n",
       "  </tbody>\n",
       "</table>"
      ],
      "text/plain": [
       "<IPython.core.display.HTML object>"
      ]
     },
     "execution_count": 11,
     "metadata": {},
     "output_type": "execute_result"
    }
   ],
   "source": [
    "resultados3A = [ \n",
    "                   [bartlettSesgo[0], bartlettVarianza[0]], \n",
    "                   [hannSesgo[0], hannVarianza[0]],\n",
    "                   [blackmanSesgo[0], blackmanVarianza[0]],\n",
    "                   [flatTopSesgo[0], flatTopVarianza[0]], \n",
    "                 ]\n",
    "df3A = DataFrame(resultados3A, columns=['$s_a$', '$v_a$'],\n",
    "               index=[\n",
    "                       'Bartlett',\n",
    "                       'Hann',\n",
    "                       'Blackman',\n",
    "                       'Flat-Top'               \n",
    "                       ])\n",
    "HTML(df3A.to_html())"
   ]
  },
  {
   "cell_type": "markdown",
   "id": "f6dfa507",
   "metadata": {},
   "source": [
    "Tabla comparativa con segundo estimador"
   ]
  },
  {
   "cell_type": "code",
   "execution_count": 14,
   "id": "5997a0ca",
   "metadata": {},
   "outputs": [
    {
     "data": {
      "text/html": [
       "<table border=\"1\" class=\"dataframe\">\n",
       "  <thead>\n",
       "    <tr style=\"text-align: right;\">\n",
       "      <th></th>\n",
       "      <th>$s_a$</th>\n",
       "      <th>$v_a$</th>\n",
       "    </tr>\n",
       "  </thead>\n",
       "  <tbody>\n",
       "    <tr>\n",
       "      <th>Bartlett</th>\n",
       "      <td>-0.851742</td>\n",
       "      <td>0.000461</td>\n",
       "    </tr>\n",
       "    <tr>\n",
       "      <th>Hann</th>\n",
       "      <td>-0.790503</td>\n",
       "      <td>0.000997</td>\n",
       "    </tr>\n",
       "    <tr>\n",
       "      <th>Blackman</th>\n",
       "      <td>-0.927989</td>\n",
       "      <td>0.001209</td>\n",
       "    </tr>\n",
       "    <tr>\n",
       "      <th>Flat-Top</th>\n",
       "      <td>-1.291734</td>\n",
       "      <td>0.000445</td>\n",
       "    </tr>\n",
       "  </tbody>\n",
       "</table>"
      ],
      "text/plain": [
       "<IPython.core.display.HTML object>"
      ]
     },
     "execution_count": 14,
     "metadata": {},
     "output_type": "execute_result"
    }
   ],
   "source": [
    "resultados3B = [ \n",
    "                   [bartlettSesgo[1], bartlettVarianza[1]], \n",
    "                   [hannSesgo[1], hannVarianza[1]],\n",
    "                   [blackmanSesgo[1], blackmanVarianza[1]],\n",
    "                   [flatTopSesgo[1], flatTopVarianza[1]], \n",
    "                 ]\n",
    "df3B = DataFrame(resultados3B, columns=['$s_a$', '$v_a$'],\n",
    "               index=[\n",
    "                       'Bartlett',\n",
    "                       'Hann',\n",
    "                       'Blackman',\n",
    "                       'Flat-Top'               \n",
    "                       ])\n",
    "HTML(df3B.to_html())"
   ]
  },
  {
   "cell_type": "code",
   "execution_count": null,
   "id": "40df064f",
   "metadata": {},
   "outputs": [],
   "source": []
  }
 ],
 "metadata": {
  "kernelspec": {
   "display_name": "Python 3 (ipykernel)",
   "language": "python",
   "name": "python3"
  },
  "language_info": {
   "codemirror_mode": {
    "name": "ipython",
    "version": 3
   },
   "file_extension": ".py",
   "mimetype": "text/x-python",
   "name": "python",
   "nbconvert_exporter": "python",
   "pygments_lexer": "ipython3",
   "version": "3.10.6"
  }
 },
 "nbformat": 4,
 "nbformat_minor": 5
}
