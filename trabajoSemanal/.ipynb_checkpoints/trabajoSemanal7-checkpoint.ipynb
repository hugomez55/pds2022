{
 "cells": [
  {
   "cell_type": "markdown",
   "id": "35e10c21",
   "metadata": {},
   "source": [
    "##### Trabajo Semanal 6"
   ]
  },
  {
   "cell_type": "markdown",
   "id": "4ed36454",
   "metadata": {},
   "source": [
    "##### Estimación espectral. Ventanas en acción!"
   ]
  },
  {
   "cell_type": "markdown",
   "id": "8d2db021",
   "metadata": {},
   "source": [
    "En esta tarea continuaremos con el capítulo 14 de Holton. DSP Principles and App.\n",
    "\n",
    "Para ello, realizaremos el punto 3.a del TP2.\n",
    "\n",
    "3) Genere la siguiente señal\n",
    "x(k)=a0⋅sen(Ω1⋅k)\n",
    "siendo\n",
    "\n",
    "a0=2\n",
    "Ω1=Ω0+fr⋅2πN\n",
    "Ω0=π2\n",
    "y la variable aleatoria definida por la siguiente distribución de probabilidad\n",
    "\n",
    "fr∼U(−2,2)\n",
    "\n",
    "\n",
    "Considere 200 realizaciones (muestras tomadas de fr) para cada ventana analizada en la TS6. Se pide entonces:\n",
    "\n",
    "3.a) Grafique los histogramas de\n",
    "|Xiw(Ω0)|\n",
    "\n",
    "\n",
    "siendo\n",
    "\n",
    "|Xiw(Ω)|=|F{x(k)⋅wi(k)}|\n",
    "para la i-ésima ventana de las 5 utilizadas en la TS6. El sesgo y la varianza se definen para este caso como:\n",
    "\n",
    " Grafique los 5 histogramas juntos, o cuide que todos los gráficos tengan el mismo rango de valores en X para facilitar la comparación visual.\n",
    "3.b) Calcule experimentalmente el sesgo y la varianza del siguiente estimador:\n",
    "a0^=|Xiw(Ω0)|\n",
    "siendo\n",
    "\n",
    "sa=E{a0^}−a0\n",
    "\n",
    "va=var{a0^}=E{(a0^−E{a0^})2}\n",
    "y pueden aproximarse cuando consideramos los valores esperados como las medias muestrales\n",
    "\n",
    "E{a0^}=μa^=1M∑j=0M−1aj^\n",
    "\n",
    "sa=μa^−a0\n",
    "\n",
    "va=1M∑j=0M−1(aj^−μa^)2\n",
    "\n",
    "\n",
    "Estimación de Amplitud \n",
    " \n",
    " \n",
    "sa\tva\n",
    "Rectangular\t \t \n",
    "Bartlett\t \t \n",
    "Hann\t \t \n",
    "Blackman\t \t \n",
    "Flat-top\t \t "
   ]
  },
  {
   "cell_type": "markdown",
   "id": "7ccdb3b6",
   "metadata": {},
   "source": [
    "Inclusión de librerías"
   ]
  },
  {
   "cell_type": "code",
   "execution_count": 2,
   "id": "ea605ec8",
   "metadata": {},
   "outputs": [],
   "source": [
    "# -*- coding: utf-8 -*-\n",
    "\"\"\"\n",
    "\n",
    "@author: Hugo Alejandro Gomez\n",
    "\n",
    "Descripción:\n",
    "------------\n",
    "Tarea semanal N°7\n",
    "\n",
    "\"\"\"\n",
    "# Inclusión de librerías\n",
    "import numpy as np\n",
    "import matplotlib.pyplot as plt\n",
    "import scipy.signal as sig"
   ]
  },
  {
   "cell_type": "markdown",
   "id": "1c0fe128",
   "metadata": {},
   "source": [
    "Inicialización de variables"
   ]
  },
  {
   "cell_type": "code",
   "execution_count": 3,
   "id": "b140297b",
   "metadata": {},
   "outputs": [],
   "source": [
    "# Inicialización de variables\n",
    "plt.close('all')\n",
    "fs=1000\n",
    "N = 1000\n",
    "df = fs/N # resolución espectral\n",
    "amp = 2\n",
    "freq = fs/4\n",
    "ph = 0\n",
    "dc = 0\n",
    "muestras = 200\n",
    "omega_ini = np.pi/2\n",
    "ts = 1/fs\n",
    "Wbins = 1"
   ]
  },
  {
   "cell_type": "markdown",
   "id": "d58fa215",
   "metadata": {},
   "source": [
    "Simulaciones"
   ]
  },
  {
   "cell_type": "code",
   "execution_count": 4,
   "id": "e0b3d47e",
   "metadata": {},
   "outputs": [
    {
     "data": {
      "image/png": "[encoded data removed]",
      "text/plain": [
       "<Figure size 640x480 with 1 Axes>"
      ]
     },
     "metadata": {},
     "output_type": "display_data"
    },
    {
     "data": {
      "image/png": "[encoded data removed]",
      "text/plain": [
       "<Figure size 640x480 with 1 Axes>"
      ]
     },
     "metadata": {},
     "output_type": "display_data"
    }
   ],
   "source": [
    "noise = (np.random.rand(1,muestras)-0.5)*2\n",
    "\n",
    "tt = np.linspace(0, (N-1)*ts, N).reshape(N,1)\n",
    "\n",
    "omega = (omega_ini + noise * (np.pi*2/N))*tt*fs\n",
    "\n",
    "signal = amp*np.sin(omega)\n",
    "\n",
    "#ft_signal = np.fft.fft(signal) / signal.shape[0]\n",
    "ft_signal = np.fft.fft(signal, axis=0) / signal.shape[0]\n",
    "\n",
    "ff = np.arange(0, fs, fs/N)\n",
    "bfrec = ff<=(fs/2)\n",
    "\n",
    "estimador1 = np.abs(ft_signal[250, :])*2 #[muestra 250, realizaciones todas]\n",
    "\n",
    "densidadPotencia = 2*np.abs(ft_signal)**2\n",
    "subMatriz = densidadPotencia[250-Wbins:250+Wbins+1, :]\n",
    "\n",
    "potenciaEstimada = np.sum(subMatriz, axis=0)\n",
    "amplitudEstimada = np.sqrt(2*potenciaEstimada)\n",
    "\n",
    "estimadores = np.vstack([estimador1, amplitudEstimada]).transpose()\n",
    "\n",
    "plt.figure(1)\n",
    "#En veces\n",
    "plt.plot(ff[bfrec],(2*np.abs(ft_signal[bfrec , :])**2))\n",
    "\n",
    "#En dB\n",
    "#plt.plot(ff[bfrec], 20*np.log10(2*np.abs(ft_signal[bfrec, :])**2))\n",
    "\n",
    "\n",
    "#plt.figure(2)\n",
    "fig, ax = plt.subplots(nrows=1, ncols=1)\n",
    "#ax.hist(estimador1)\n",
    "ax.hist(estimadores)\n",
    "\n",
    "mediana = np.median(estimadores, axis=0)\n",
    "sesgo = np.median(estimadores, axis=0) - amp\n",
    "varianza = np.mean((estimadores - mediana)**2, axis=0)\n",
    "\n",
    "\n",
    "plt.show()\n"
   ]
  },
  {
   "cell_type": "code",
   "execution_count": null,
   "id": "529393e6",
   "metadata": {},
   "outputs": [],
   "source": []
  }
 ],
 "metadata": {
  "kernelspec": {
   "display_name": "Python 3 (ipykernel)",
   "language": "python",
   "name": "python3"
  },
  "language_info": {
   "codemirror_mode": {
    "name": "ipython",
    "version": 3
   },
   "file_extension": ".py",
   "mimetype": "text/x-python",
   "name": "python",
   "nbconvert_exporter": "python",
   "pygments_lexer": "ipython3",
   "version": "3.10.6"
  }
 },
 "nbformat": 4,
 "nbformat_minor": 5
}
